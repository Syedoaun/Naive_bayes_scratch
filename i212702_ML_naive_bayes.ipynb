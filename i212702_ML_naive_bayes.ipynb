{
  "nbformat": 4,
  "nbformat_minor": 0,
  "metadata": {
    "colab": {
      "provenance": []
    },
    "kernelspec": {
      "name": "python3",
      "display_name": "Python 3"
    },
    "language_info": {
      "name": "python"
    }
  },
  "cells": [
    {
      "cell_type": "code",
      "execution_count": 102,
      "metadata": {
        "id": "8YzegnfY_mJ8"
      },
      "outputs": [],
      "source": [
        "import pandas as pd\n",
        "import numpy as np\n",
        "from sklearn.model_selection import train_test_split\n",
        "from sklearn.naive_bayes import GaussianNB\n",
        "from sklearn.preprocessing import LabelEncoder"
      ]
    },
    {
      "cell_type": "code",
      "source": [],
      "metadata": {
        "id": "i2zO1vt5AFlH"
      },
      "execution_count": 203,
      "outputs": []
    },
    {
      "cell_type": "code",
      "source": [
        "df = pd.read_csv('/content/PlayTennis.csv')\n",
        "df"
      ],
      "metadata": {
        "colab": {
          "base_uri": "https://localhost:8080/",
          "height": 488
        },
        "id": "4rfAtqvpAUpf",
        "outputId": "be6e16fd-4ce1-494e-cc57-6df40f364f9f"
      },
      "execution_count": 14,
      "outputs": [
        {
          "output_type": "execute_result",
          "data": {
            "text/plain": [
              "     Outlook Temperature Humidity    Wind PlayTennis\n",
              "0      Sunny         Hot     High    Weak         No\n",
              "1      Sunny         Hot     High  Strong         No\n",
              "2   Overcast         Hot     High    Weak        Yes\n",
              "3       Rain        Mild     High    Weak        Yes\n",
              "4       Rain        Cool   Normal    Weak        Yes\n",
              "5       Rain        Cool   Normal  Strong         No\n",
              "6   Overcast        Cool   Normal  Strong        Yes\n",
              "7      Sunny        Mild     High    Weak         No\n",
              "8      Sunny        Cool   Normal    Weak        Yes\n",
              "9       Rain        Mild   Normal    Weak        Yes\n",
              "10     Sunny        Mild   Normal  Strong        Yes\n",
              "11  Overcast        Mild     High  Strong        Yes\n",
              "12  Overcast         Hot   Normal    Weak        Yes\n",
              "13      Rain        Mild     High  Strong         No"
            ],
            "text/html": [
              "\n",
              "  <div id=\"df-900ec7cc-4409-489f-ab6a-879801cea0ab\" class=\"colab-df-container\">\n",
              "    <div>\n",
              "<style scoped>\n",
              "    .dataframe tbody tr th:only-of-type {\n",
              "        vertical-align: middle;\n",
              "    }\n",
              "\n",
              "    .dataframe tbody tr th {\n",
              "        vertical-align: top;\n",
              "    }\n",
              "\n",
              "    .dataframe thead th {\n",
              "        text-align: right;\n",
              "    }\n",
              "</style>\n",
              "<table border=\"1\" class=\"dataframe\">\n",
              "  <thead>\n",
              "    <tr style=\"text-align: right;\">\n",
              "      <th></th>\n",
              "      <th>Outlook</th>\n",
              "      <th>Temperature</th>\n",
              "      <th>Humidity</th>\n",
              "      <th>Wind</th>\n",
              "      <th>PlayTennis</th>\n",
              "    </tr>\n",
              "  </thead>\n",
              "  <tbody>\n",
              "    <tr>\n",
              "      <th>0</th>\n",
              "      <td>Sunny</td>\n",
              "      <td>Hot</td>\n",
              "      <td>High</td>\n",
              "      <td>Weak</td>\n",
              "      <td>No</td>\n",
              "    </tr>\n",
              "    <tr>\n",
              "      <th>1</th>\n",
              "      <td>Sunny</td>\n",
              "      <td>Hot</td>\n",
              "      <td>High</td>\n",
              "      <td>Strong</td>\n",
              "      <td>No</td>\n",
              "    </tr>\n",
              "    <tr>\n",
              "      <th>2</th>\n",
              "      <td>Overcast</td>\n",
              "      <td>Hot</td>\n",
              "      <td>High</td>\n",
              "      <td>Weak</td>\n",
              "      <td>Yes</td>\n",
              "    </tr>\n",
              "    <tr>\n",
              "      <th>3</th>\n",
              "      <td>Rain</td>\n",
              "      <td>Mild</td>\n",
              "      <td>High</td>\n",
              "      <td>Weak</td>\n",
              "      <td>Yes</td>\n",
              "    </tr>\n",
              "    <tr>\n",
              "      <th>4</th>\n",
              "      <td>Rain</td>\n",
              "      <td>Cool</td>\n",
              "      <td>Normal</td>\n",
              "      <td>Weak</td>\n",
              "      <td>Yes</td>\n",
              "    </tr>\n",
              "    <tr>\n",
              "      <th>5</th>\n",
              "      <td>Rain</td>\n",
              "      <td>Cool</td>\n",
              "      <td>Normal</td>\n",
              "      <td>Strong</td>\n",
              "      <td>No</td>\n",
              "    </tr>\n",
              "    <tr>\n",
              "      <th>6</th>\n",
              "      <td>Overcast</td>\n",
              "      <td>Cool</td>\n",
              "      <td>Normal</td>\n",
              "      <td>Strong</td>\n",
              "      <td>Yes</td>\n",
              "    </tr>\n",
              "    <tr>\n",
              "      <th>7</th>\n",
              "      <td>Sunny</td>\n",
              "      <td>Mild</td>\n",
              "      <td>High</td>\n",
              "      <td>Weak</td>\n",
              "      <td>No</td>\n",
              "    </tr>\n",
              "    <tr>\n",
              "      <th>8</th>\n",
              "      <td>Sunny</td>\n",
              "      <td>Cool</td>\n",
              "      <td>Normal</td>\n",
              "      <td>Weak</td>\n",
              "      <td>Yes</td>\n",
              "    </tr>\n",
              "    <tr>\n",
              "      <th>9</th>\n",
              "      <td>Rain</td>\n",
              "      <td>Mild</td>\n",
              "      <td>Normal</td>\n",
              "      <td>Weak</td>\n",
              "      <td>Yes</td>\n",
              "    </tr>\n",
              "    <tr>\n",
              "      <th>10</th>\n",
              "      <td>Sunny</td>\n",
              "      <td>Mild</td>\n",
              "      <td>Normal</td>\n",
              "      <td>Strong</td>\n",
              "      <td>Yes</td>\n",
              "    </tr>\n",
              "    <tr>\n",
              "      <th>11</th>\n",
              "      <td>Overcast</td>\n",
              "      <td>Mild</td>\n",
              "      <td>High</td>\n",
              "      <td>Strong</td>\n",
              "      <td>Yes</td>\n",
              "    </tr>\n",
              "    <tr>\n",
              "      <th>12</th>\n",
              "      <td>Overcast</td>\n",
              "      <td>Hot</td>\n",
              "      <td>Normal</td>\n",
              "      <td>Weak</td>\n",
              "      <td>Yes</td>\n",
              "    </tr>\n",
              "    <tr>\n",
              "      <th>13</th>\n",
              "      <td>Rain</td>\n",
              "      <td>Mild</td>\n",
              "      <td>High</td>\n",
              "      <td>Strong</td>\n",
              "      <td>No</td>\n",
              "    </tr>\n",
              "  </tbody>\n",
              "</table>\n",
              "</div>\n",
              "    <div class=\"colab-df-buttons\">\n",
              "\n",
              "  <div class=\"colab-df-container\">\n",
              "    <button class=\"colab-df-convert\" onclick=\"convertToInteractive('df-900ec7cc-4409-489f-ab6a-879801cea0ab')\"\n",
              "            title=\"Convert this dataframe to an interactive table.\"\n",
              "            style=\"display:none;\">\n",
              "\n",
              "  <svg xmlns=\"http://www.w3.org/2000/svg\" height=\"24px\" viewBox=\"0 -960 960 960\">\n",
              "    <path d=\"M120-120v-720h720v720H120Zm60-500h600v-160H180v160Zm220 220h160v-160H400v160Zm0 220h160v-160H400v160ZM180-400h160v-160H180v160Zm440 0h160v-160H620v160ZM180-180h160v-160H180v160Zm440 0h160v-160H620v160Z\"/>\n",
              "  </svg>\n",
              "    </button>\n",
              "\n",
              "  <style>\n",
              "    .colab-df-container {\n",
              "      display:flex;\n",
              "      gap: 12px;\n",
              "    }\n",
              "\n",
              "    .colab-df-convert {\n",
              "      background-color: #E8F0FE;\n",
              "      border: none;\n",
              "      border-radius: 50%;\n",
              "      cursor: pointer;\n",
              "      display: none;\n",
              "      fill: #1967D2;\n",
              "      height: 32px;\n",
              "      padding: 0 0 0 0;\n",
              "      width: 32px;\n",
              "    }\n",
              "\n",
              "    .colab-df-convert:hover {\n",
              "      background-color: #E2EBFA;\n",
              "      box-shadow: 0px 1px 2px rgba(60, 64, 67, 0.3), 0px 1px 3px 1px rgba(60, 64, 67, 0.15);\n",
              "      fill: #174EA6;\n",
              "    }\n",
              "\n",
              "    .colab-df-buttons div {\n",
              "      margin-bottom: 4px;\n",
              "    }\n",
              "\n",
              "    [theme=dark] .colab-df-convert {\n",
              "      background-color: #3B4455;\n",
              "      fill: #D2E3FC;\n",
              "    }\n",
              "\n",
              "    [theme=dark] .colab-df-convert:hover {\n",
              "      background-color: #434B5C;\n",
              "      box-shadow: 0px 1px 3px 1px rgba(0, 0, 0, 0.15);\n",
              "      filter: drop-shadow(0px 1px 2px rgba(0, 0, 0, 0.3));\n",
              "      fill: #FFFFFF;\n",
              "    }\n",
              "  </style>\n",
              "\n",
              "    <script>\n",
              "      const buttonEl =\n",
              "        document.querySelector('#df-900ec7cc-4409-489f-ab6a-879801cea0ab button.colab-df-convert');\n",
              "      buttonEl.style.display =\n",
              "        google.colab.kernel.accessAllowed ? 'block' : 'none';\n",
              "\n",
              "      async function convertToInteractive(key) {\n",
              "        const element = document.querySelector('#df-900ec7cc-4409-489f-ab6a-879801cea0ab');\n",
              "        const dataTable =\n",
              "          await google.colab.kernel.invokeFunction('convertToInteractive',\n",
              "                                                    [key], {});\n",
              "        if (!dataTable) return;\n",
              "\n",
              "        const docLinkHtml = 'Like what you see? Visit the ' +\n",
              "          '<a target=\"_blank\" href=https://colab.research.google.com/notebooks/data_table.ipynb>data table notebook</a>'\n",
              "          + ' to learn more about interactive tables.';\n",
              "        element.innerHTML = '';\n",
              "        dataTable['output_type'] = 'display_data';\n",
              "        await google.colab.output.renderOutput(dataTable, element);\n",
              "        const docLink = document.createElement('div');\n",
              "        docLink.innerHTML = docLinkHtml;\n",
              "        element.appendChild(docLink);\n",
              "      }\n",
              "    </script>\n",
              "  </div>\n",
              "\n",
              "\n",
              "<div id=\"df-dfad72ef-f172-4241-975f-926d2ad0743e\">\n",
              "  <button class=\"colab-df-quickchart\" onclick=\"quickchart('df-dfad72ef-f172-4241-975f-926d2ad0743e')\"\n",
              "            title=\"Suggest charts\"\n",
              "            style=\"display:none;\">\n",
              "\n",
              "<svg xmlns=\"http://www.w3.org/2000/svg\" height=\"24px\"viewBox=\"0 0 24 24\"\n",
              "     width=\"24px\">\n",
              "    <g>\n",
              "        <path d=\"M19 3H5c-1.1 0-2 .9-2 2v14c0 1.1.9 2 2 2h14c1.1 0 2-.9 2-2V5c0-1.1-.9-2-2-2zM9 17H7v-7h2v7zm4 0h-2V7h2v10zm4 0h-2v-4h2v4z\"/>\n",
              "    </g>\n",
              "</svg>\n",
              "  </button>\n",
              "\n",
              "<style>\n",
              "  .colab-df-quickchart {\n",
              "      --bg-color: #E8F0FE;\n",
              "      --fill-color: #1967D2;\n",
              "      --hover-bg-color: #E2EBFA;\n",
              "      --hover-fill-color: #174EA6;\n",
              "      --disabled-fill-color: #AAA;\n",
              "      --disabled-bg-color: #DDD;\n",
              "  }\n",
              "\n",
              "  [theme=dark] .colab-df-quickchart {\n",
              "      --bg-color: #3B4455;\n",
              "      --fill-color: #D2E3FC;\n",
              "      --hover-bg-color: #434B5C;\n",
              "      --hover-fill-color: #FFFFFF;\n",
              "      --disabled-bg-color: #3B4455;\n",
              "      --disabled-fill-color: #666;\n",
              "  }\n",
              "\n",
              "  .colab-df-quickchart {\n",
              "    background-color: var(--bg-color);\n",
              "    border: none;\n",
              "    border-radius: 50%;\n",
              "    cursor: pointer;\n",
              "    display: none;\n",
              "    fill: var(--fill-color);\n",
              "    height: 32px;\n",
              "    padding: 0;\n",
              "    width: 32px;\n",
              "  }\n",
              "\n",
              "  .colab-df-quickchart:hover {\n",
              "    background-color: var(--hover-bg-color);\n",
              "    box-shadow: 0 1px 2px rgba(60, 64, 67, 0.3), 0 1px 3px 1px rgba(60, 64, 67, 0.15);\n",
              "    fill: var(--button-hover-fill-color);\n",
              "  }\n",
              "\n",
              "  .colab-df-quickchart-complete:disabled,\n",
              "  .colab-df-quickchart-complete:disabled:hover {\n",
              "    background-color: var(--disabled-bg-color);\n",
              "    fill: var(--disabled-fill-color);\n",
              "    box-shadow: none;\n",
              "  }\n",
              "\n",
              "  .colab-df-spinner {\n",
              "    border: 2px solid var(--fill-color);\n",
              "    border-color: transparent;\n",
              "    border-bottom-color: var(--fill-color);\n",
              "    animation:\n",
              "      spin 1s steps(1) infinite;\n",
              "  }\n",
              "\n",
              "  @keyframes spin {\n",
              "    0% {\n",
              "      border-color: transparent;\n",
              "      border-bottom-color: var(--fill-color);\n",
              "      border-left-color: var(--fill-color);\n",
              "    }\n",
              "    20% {\n",
              "      border-color: transparent;\n",
              "      border-left-color: var(--fill-color);\n",
              "      border-top-color: var(--fill-color);\n",
              "    }\n",
              "    30% {\n",
              "      border-color: transparent;\n",
              "      border-left-color: var(--fill-color);\n",
              "      border-top-color: var(--fill-color);\n",
              "      border-right-color: var(--fill-color);\n",
              "    }\n",
              "    40% {\n",
              "      border-color: transparent;\n",
              "      border-right-color: var(--fill-color);\n",
              "      border-top-color: var(--fill-color);\n",
              "    }\n",
              "    60% {\n",
              "      border-color: transparent;\n",
              "      border-right-color: var(--fill-color);\n",
              "    }\n",
              "    80% {\n",
              "      border-color: transparent;\n",
              "      border-right-color: var(--fill-color);\n",
              "      border-bottom-color: var(--fill-color);\n",
              "    }\n",
              "    90% {\n",
              "      border-color: transparent;\n",
              "      border-bottom-color: var(--fill-color);\n",
              "    }\n",
              "  }\n",
              "</style>\n",
              "\n",
              "  <script>\n",
              "    async function quickchart(key) {\n",
              "      const quickchartButtonEl =\n",
              "        document.querySelector('#' + key + ' button');\n",
              "      quickchartButtonEl.disabled = true;  // To prevent multiple clicks.\n",
              "      quickchartButtonEl.classList.add('colab-df-spinner');\n",
              "      try {\n",
              "        const charts = await google.colab.kernel.invokeFunction(\n",
              "            'suggestCharts', [key], {});\n",
              "      } catch (error) {\n",
              "        console.error('Error during call to suggestCharts:', error);\n",
              "      }\n",
              "      quickchartButtonEl.classList.remove('colab-df-spinner');\n",
              "      quickchartButtonEl.classList.add('colab-df-quickchart-complete');\n",
              "    }\n",
              "    (() => {\n",
              "      let quickchartButtonEl =\n",
              "        document.querySelector('#df-dfad72ef-f172-4241-975f-926d2ad0743e button');\n",
              "      quickchartButtonEl.style.display =\n",
              "        google.colab.kernel.accessAllowed ? 'block' : 'none';\n",
              "    })();\n",
              "  </script>\n",
              "</div>\n",
              "    </div>\n",
              "  </div>\n"
            ],
            "application/vnd.google.colaboratory.intrinsic+json": {
              "type": "dataframe",
              "variable_name": "df",
              "summary": "{\n  \"name\": \"df\",\n  \"rows\": 14,\n  \"fields\": [\n    {\n      \"column\": \"Outlook\",\n      \"properties\": {\n        \"dtype\": \"category\",\n        \"num_unique_values\": 3,\n        \"samples\": [\n          \"Sunny\",\n          \"Overcast\",\n          \"Rain\"\n        ],\n        \"semantic_type\": \"\",\n        \"description\": \"\"\n      }\n    },\n    {\n      \"column\": \"Temperature\",\n      \"properties\": {\n        \"dtype\": \"category\",\n        \"num_unique_values\": 3,\n        \"samples\": [\n          \"Hot\",\n          \"Mild\",\n          \"Cool\"\n        ],\n        \"semantic_type\": \"\",\n        \"description\": \"\"\n      }\n    },\n    {\n      \"column\": \"Humidity\",\n      \"properties\": {\n        \"dtype\": \"category\",\n        \"num_unique_values\": 2,\n        \"samples\": [\n          \"Normal\",\n          \"High\"\n        ],\n        \"semantic_type\": \"\",\n        \"description\": \"\"\n      }\n    },\n    {\n      \"column\": \"Wind\",\n      \"properties\": {\n        \"dtype\": \"category\",\n        \"num_unique_values\": 2,\n        \"samples\": [\n          \"Strong\",\n          \"Weak\"\n        ],\n        \"semantic_type\": \"\",\n        \"description\": \"\"\n      }\n    },\n    {\n      \"column\": \"PlayTennis\",\n      \"properties\": {\n        \"dtype\": \"category\",\n        \"num_unique_values\": 2,\n        \"samples\": [\n          \"Yes\",\n          \"No\"\n        ],\n        \"semantic_type\": \"\",\n        \"description\": \"\"\n      }\n    }\n  ]\n}"
            }
          },
          "metadata": {},
          "execution_count": 14
        }
      ]
    },
    {
      "cell_type": "code",
      "source": [
        "counts = df['PlayTennis'].value_counts()\n",
        "counts"
      ],
      "metadata": {
        "id": "j8DANjd0J3D7",
        "outputId": "8d987ff1-27a6-4cd7-c8d8-e8badac29030",
        "colab": {
          "base_uri": "https://localhost:8080/"
        }
      },
      "execution_count": 180,
      "outputs": [
        {
          "output_type": "execute_result",
          "data": {
            "text/plain": [
              "PlayTennis\n",
              "Yes    9\n",
              "No     5\n",
              "Name: count, dtype: int64"
            ]
          },
          "metadata": {},
          "execution_count": 180
        }
      ]
    },
    {
      "cell_type": "code",
      "source": [
        "class naive_bayes():\n",
        "  def __init__(self, df):\n",
        "        self.df = df\n",
        "\n",
        "  def calculate_probabilities(self):\n",
        "\n",
        "      self.probabilities = {}\n",
        "      for column in self.df.columns[:-1]:\n",
        "          probabilities = self.df.groupby([column, 'PlayTennis']).size().unstack('PlayTennis', fill_value=0)\n",
        "          #print(probabilities)\n",
        "          #print(probabilities.sum(axis=0))\n",
        "          probabilities = probabilities.div(probabilities.sum(axis=0), axis=1)\n",
        "          self.probabilities[column] = probabilities\n",
        "\n",
        "\n",
        "  def predict(self, user_outlook, user_temperature, user_humidity, user_wind):\n",
        "\n",
        "        outlook_prob = self.probabilities['Outlook']\n",
        "        temperature_prob = self.probabilities['Temperature']\n",
        "        humidity_prob = self.probabilities['Humidity']\n",
        "        wind_prob = self.probabilities['Wind']\n",
        "\n",
        "        #print(outlook_prob)\n",
        "        #print(temperature_prob)\n",
        "        #print(humidity_prob)\n",
        "        #print(wind_prob)\n",
        "\n",
        "        prob_yes = outlook_prob.loc[user_outlook, 'Yes'] * temperature_prob.loc[user_temperature, 'Yes'] * humidity_prob.loc[user_humidity, 'Yes'] * wind_prob.loc[user_wind, 'Yes']\n",
        "\n",
        "        prob_no = outlook_prob.loc[user_outlook, 'No'] * temperature_prob.loc[user_temperature, 'No'] * humidity_prob.loc[user_humidity, 'No'] * wind_prob.loc[user_wind, 'No']\n",
        "\n",
        "\n",
        "        prob_no *= counts['No']/(counts['Yes']+counts['No'])\n",
        "        prob_yes *= counts['Yes']/(counts['Yes']+counts['No'])\n",
        "\n",
        "\n",
        "\n",
        "\n",
        "        return prob_yes, prob_no\n",
        "\n",
        "\n",
        "\n"
      ],
      "metadata": {
        "id": "GGiLzPRvPJpi"
      },
      "execution_count": 195,
      "outputs": []
    },
    {
      "cell_type": "code",
      "source": [],
      "metadata": {
        "id": "F4NwpVja1bv0",
        "outputId": "df0a44a2-7a56-4455-cebf-a9a8fe80996d",
        "colab": {
          "base_uri": "https://localhost:8080/"
        }
      },
      "execution_count": 175,
      "outputs": [
        {
          "output_type": "execute_result",
          "data": {
            "text/plain": [
              "PlayTennis\n",
              "Yes    9\n",
              "No     5\n",
              "Name: count, dtype: int64"
            ]
          },
          "metadata": {},
          "execution_count": 175
        }
      ]
    },
    {
      "cell_type": "code",
      "source": [
        "User_Outlook = input(\"Enter the outlook: \")\n",
        "\n",
        "User_Temperature = input(\"Enter the temperature: \")\n",
        "\n",
        "User_Humidity = input(\"Enter the humidity: \")\n",
        "\n",
        "User_Wind = input(\"Enter the wind speed: \")\n",
        "\n",
        "print(\"User_Outlook:\", User_Outlook)\n",
        "print(\"User_Temperature:\", User_Temperature)\n",
        "print(\"User_Humidity:\", User_Humidity)\n",
        "print(\"User_Wind:\", User_Wind)"
      ],
      "metadata": {
        "colab": {
          "base_uri": "https://localhost:8080/"
        },
        "id": "LapuEYRaSVKq",
        "outputId": "66dfa81f-eb6e-4094-b732-0f4d1b476ab0"
      },
      "execution_count": 42,
      "outputs": [
        {
          "output_type": "stream",
          "name": "stdout",
          "text": [
            "Enter the outlook: Sunny\n",
            "Enter the temperature: Hot\n",
            "Enter the humidity: High\n",
            "Enter the wind speed: Weak\n",
            "User_Outlook: Sunny\n",
            "User_Temperature: Hot\n",
            "User_Humidity: High\n",
            "User_Wind: Weak\n"
          ]
        }
      ]
    },
    {
      "cell_type": "code",
      "source": [
        "naive_prob = naive_bayes(df)\n",
        "naive_prob.calculate_probabilities()"
      ],
      "metadata": {
        "id": "lk3ah1NYK2Ju"
      },
      "execution_count": 196,
      "outputs": []
    },
    {
      "cell_type": "code",
      "source": [
        "naive_prob.predict(df['Outlook'][2],df['Temperature'][2],df['Humidity'][2],df['Wind'][2])"
      ],
      "metadata": {
        "id": "wkgGmqFz4inZ",
        "outputId": "b61ed35e-41a0-4f04-e7aa-9dd1c5ad2284",
        "colab": {
          "base_uri": "https://localhost:8080/"
        }
      },
      "execution_count": 134,
      "outputs": [
        {
          "output_type": "stream",
          "name": "stdout",
          "text": [
            "PlayTennis   No       Yes\n",
            "Outlook                  \n",
            "Overcast    0.0  0.444444\n",
            "Rain        0.4  0.333333\n",
            "Sunny       0.6  0.222222\n",
            "PlayTennis    No       Yes\n",
            "Temperature               \n",
            "Cool         0.2  0.333333\n",
            "Hot          0.4  0.222222\n",
            "Mild         0.4  0.444444\n",
            "PlayTennis   No       Yes\n",
            "Humidity                 \n",
            "High        0.8  0.333333\n",
            "Normal      0.2  0.666667\n",
            "PlayTennis   No       Yes\n",
            "Wind                     \n",
            "Strong      0.6  0.333333\n",
            "Weak        0.4  0.666667\n"
          ]
        },
        {
          "output_type": "execute_result",
          "data": {
            "text/plain": [
              "(0.04938271604938271, 0.12800000000000003)"
            ]
          },
          "metadata": {},
          "execution_count": 134
        }
      ]
    },
    {
      "cell_type": "code",
      "source": [
        "naive_prob.predict(User_Outlook,User_Temperature,User_Humidity,User_Wind) # returns prob yes , prob no"
      ],
      "metadata": {
        "colab": {
          "base_uri": "https://localhost:8080/"
        },
        "id": "q8cSlpYZLJ9k",
        "outputId": "33094518-a345-41d1-92d4-c440f33ab813"
      },
      "execution_count": 198,
      "outputs": [
        {
          "output_type": "execute_result",
          "data": {
            "text/plain": [
              "(0.007054673721340387, 0.02742857142857143)"
            ]
          },
          "metadata": {},
          "execution_count": 198
        }
      ]
    },
    {
      "cell_type": "code",
      "source": [
        "predic=[]\n",
        "for i in range(df['Outlook'].shape[0]):\n",
        "  naive_prob_yes,naive_prob_no = naive_prob.predict(df['Outlook'][i],df['Temperature'][i],df['Humidity'][i],df['Wind'][i])\n",
        "  #print(df['Temperature'][i])\n",
        "  print(naive_prob_yes)\n",
        "  print(naive_prob_no)\n",
        "  print(\"  _  \")\n",
        "\n",
        "  if naive_prob_yes > naive_prob_no:\n",
        "    predic.append(['Yes'])\n",
        "  else:\n",
        "    predic.append(['No'])"
      ],
      "metadata": {
        "colab": {
          "base_uri": "https://localhost:8080/"
        },
        "id": "uIr-qzcMW0PW",
        "outputId": "2ce5a273-9167-4758-f959-9369f8eaf8d2"
      },
      "execution_count": 199,
      "outputs": [
        {
          "output_type": "stream",
          "name": "stdout",
          "text": [
            "0.007054673721340387\n",
            "0.02742857142857143\n",
            "  _  \n",
            "0.0035273368606701934\n",
            "0.04114285714285714\n",
            "  _  \n",
            "0.014109347442680773\n",
            "0.0\n",
            "  _  \n",
            "0.021164021164021163\n",
            "0.01828571428571429\n",
            "  _  \n",
            "0.031746031746031744\n",
            "0.0022857142857142863\n",
            "  _  \n",
            "0.015873015873015872\n",
            "0.0034285714285714297\n",
            "  _  \n",
            "0.021164021164021163\n",
            "0.0\n",
            "  _  \n",
            "0.014109347442680773\n",
            "0.02742857142857143\n",
            "  _  \n",
            "0.021164021164021163\n",
            "0.003428571428571429\n",
            "  _  \n",
            "0.042328042328042326\n",
            "0.004571428571428573\n",
            "  _  \n",
            "0.014109347442680773\n",
            "0.010285714285714285\n",
            "  _  \n",
            "0.014109347442680773\n",
            "0.0\n",
            "  _  \n",
            "0.028218694885361547\n",
            "0.0\n",
            "  _  \n",
            "0.010582010582010581\n",
            "0.027428571428571438\n",
            "  _  \n"
          ]
        }
      ]
    },
    {
      "cell_type": "code",
      "source": [
        "predic"
      ],
      "metadata": {
        "colab": {
          "base_uri": "https://localhost:8080/"
        },
        "id": "7bWIrlN_Y6qx",
        "outputId": "d8b90335-d612-43c4-f8b4-962ab15bff37"
      },
      "execution_count": 200,
      "outputs": [
        {
          "output_type": "execute_result",
          "data": {
            "text/plain": [
              "[['No'],\n",
              " ['No'],\n",
              " ['Yes'],\n",
              " ['Yes'],\n",
              " ['Yes'],\n",
              " ['Yes'],\n",
              " ['Yes'],\n",
              " ['No'],\n",
              " ['Yes'],\n",
              " ['Yes'],\n",
              " ['Yes'],\n",
              " ['Yes'],\n",
              " ['Yes'],\n",
              " ['No']]"
            ]
          },
          "metadata": {},
          "execution_count": 200
        }
      ]
    },
    {
      "cell_type": "code",
      "source": [
        "print(df['PlayTennis'])"
      ],
      "metadata": {
        "colab": {
          "base_uri": "https://localhost:8080/"
        },
        "id": "BzFItUstY8QS",
        "outputId": "cbcd12c2-e8a9-4f9a-e237-40eef1b9bf01"
      },
      "execution_count": 201,
      "outputs": [
        {
          "output_type": "stream",
          "name": "stdout",
          "text": [
            "0      No\n",
            "1      No\n",
            "2     Yes\n",
            "3     Yes\n",
            "4     Yes\n",
            "5      No\n",
            "6     Yes\n",
            "7      No\n",
            "8     Yes\n",
            "9     Yes\n",
            "10    Yes\n",
            "11    Yes\n",
            "12    Yes\n",
            "13     No\n",
            "Name: PlayTennis, dtype: object\n"
          ]
        }
      ]
    },
    {
      "cell_type": "code",
      "source": [
        "# Calculate accuracy\n",
        "from sklearn.metrics import accuracy_score\n",
        "accuracy = accuracy_score(df['PlayTennis'], predic)\n",
        "\n",
        "print(f\"Accuracy: {accuracy * 100:.2f}%\")"
      ],
      "metadata": {
        "colab": {
          "base_uri": "https://localhost:8080/"
        },
        "id": "hIhaz5lnNGBd",
        "outputId": "08b075e7-7651-4165-bb49-826363a32b71"
      },
      "execution_count": 202,
      "outputs": [
        {
          "output_type": "stream",
          "name": "stdout",
          "text": [
            "Accuracy: 92.86%\n"
          ]
        }
      ]
    },
    {
      "cell_type": "code",
      "source": [],
      "metadata": {
        "id": "2hN14VKJGfcd"
      },
      "execution_count": 202,
      "outputs": []
    },
    {
      "cell_type": "code",
      "source": [
        "Outlook = df.groupby(['Outlook', 'PlayTennis']).size()\n",
        "Outlook"
      ],
      "metadata": {
        "colab": {
          "base_uri": "https://localhost:8080/"
        },
        "id": "tPC8rWDqOUY0",
        "outputId": "7b17b7c1-a55c-43d0-99c0-2332343db666"
      },
      "execution_count": 203,
      "outputs": [
        {
          "output_type": "execute_result",
          "data": {
            "text/plain": [
              "Outlook   PlayTennis\n",
              "Overcast  Yes           4\n",
              "Rain      No            2\n",
              "          Yes           3\n",
              "Sunny     No            3\n",
              "          Yes           2\n",
              "dtype: int64"
            ]
          },
          "metadata": {},
          "execution_count": 203
        }
      ]
    },
    {
      "cell_type": "code",
      "source": [],
      "metadata": {
        "id": "prrqvSjXGjeV"
      },
      "execution_count": null,
      "outputs": []
    },
    {
      "cell_type": "code",
      "source": [],
      "metadata": {
        "id": "D0q0yzh7Gw3U"
      },
      "execution_count": null,
      "outputs": []
    },
    {
      "cell_type": "code",
      "source": [
        "\n",
        "\n"
      ],
      "metadata": {
        "id": "_Z_QNQZGJZeT"
      },
      "execution_count": null,
      "outputs": []
    }
  ]
}